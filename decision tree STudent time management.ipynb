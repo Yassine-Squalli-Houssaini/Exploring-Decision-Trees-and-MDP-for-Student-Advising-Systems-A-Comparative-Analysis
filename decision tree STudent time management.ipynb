{
 "cells": [
  {
   "cell_type": "code",
   "execution_count": null,
   "id": "64319dd4",
   "metadata": {},
   "outputs": [],
   "source": []
  },
  {
   "cell_type": "code",
   "execution_count": 3,
   "id": "70118b21",
   "metadata": {},
   "outputs": [
    {
     "name": "stdout",
     "output_type": "stream",
     "text": [
      "Accuracy: 0.675\n",
      "Execution Time: 0.0010001659393310547 seconds\n"
     ]
    }
   ],
   "source": [
    "import pandas as pd\n",
    "import numpy as np\n",
    "from sklearn.model_selection import train_test_split\n",
    "from sklearn.tree import DecisionTreeClassifier\n",
    "from sklearn.preprocessing import OneHotEncoder\n",
    "import time\n",
    "\n",
    "# Read the CSV file\n",
    "data = pd.read_csv('finaldata.csv')\n",
    "\n",
    "# Extract the relevant columns as states\n",
    "states = data[['academic_load', 'current_grade_average', 'time_of_semester', 'mental_state', 'sleep_time', 'break_time']].values.tolist()\n",
    "# Define the actions\n",
    "actions = ['Increase Study Time', 'Decrease Study Time', 'Increase Break Time', 'Decrease Break Time',\n",
    "           'Increase Sleep Time', 'Decrease Sleep Time', 'Increase Social Time', 'Decrease Social Time']\n",
    "\n",
    "# Split the data into training and testing sets\n",
    "train_data, test_data = train_test_split(data, test_size=0.2, random_state=42)\n",
    "\n",
    "# Convert the categorical variable 'mental_state' into numerical representation using one-hot encoding\n",
    "encoder = OneHotEncoder(sparse=False)\n",
    "train_encoded = encoder.fit_transform(train_data[['mental_state']])\n",
    "test_encoded = encoder.transform(test_data[['mental_state']])\n",
    "\n",
    "# Create the decision tree classifier\n",
    "classifier = DecisionTreeClassifier()\n",
    "\n",
    "# Combine the encoded features with other numerical features\n",
    "train_features = np.hstack((train_data[['academic_load', 'current_grade_average', 'time_of_semester','sleep_time', 'break_time']].values, train_encoded))\n",
    "test_features = np.hstack((test_data[['academic_load', 'current_grade_average', 'time_of_semester','sleep_time', 'break_time']].values, test_encoded))\n",
    "\n",
    "# Fit the classifier on the training data\n",
    "classifier.fit(train_features, train_data['actions'])\n",
    "\n",
    "# Evaluate the model's performance on the testing set\n",
    "start_time = time.time()\n",
    "predictions = classifier.predict(test_features)\n",
    "accuracy = (predictions == test_data['actions']).mean()\n",
    "execution_time = time.time() - start_time\n",
    "\n",
    "# Print the accuracy\n",
    "print(f\"Accuracy: {accuracy}\")\n",
    "print(f\"Execution Time: {execution_time} seconds\")\n"
   ]
  },
  {
   "cell_type": "code",
   "execution_count": null,
   "id": "a27f20ab",
   "metadata": {},
   "outputs": [],
   "source": []
  }
 ],
 "metadata": {
  "kernelspec": {
   "display_name": "Python 3 (ipykernel)",
   "language": "python",
   "name": "python3"
  },
  "language_info": {
   "codemirror_mode": {
    "name": "ipython",
    "version": 3
   },
   "file_extension": ".py",
   "mimetype": "text/x-python",
   "name": "python",
   "nbconvert_exporter": "python",
   "pygments_lexer": "ipython3",
   "version": "3.8.5"
  }
 },
 "nbformat": 4,
 "nbformat_minor": 5
}
